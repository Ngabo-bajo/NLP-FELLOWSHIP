{
  "nbformat": 4,
  "nbformat_minor": 0,
  "metadata": {
    "colab": {
      "provenance": [],
      "collapsed_sections": [],
      "authorship_tag": "ABX9TyO3J2DbI9O1ktAOoEtNNp5S",
      "include_colab_link": true
    },
    "kernelspec": {
      "name": "python3",
      "display_name": "Python 3"
    },
    "language_info": {
      "name": "python"
    }
  },
  "cells": [
    {
      "cell_type": "markdown",
      "metadata": {
        "id": "view-in-github",
        "colab_type": "text"
      },
      "source": [
        "<a href=\"https://colab.research.google.com/github/Ngabo-bajo/NLP-FELLOWSHIP/blob/main/Web_scrapping_assignment.ipynb\" target=\"_parent\"><img src=\"https://colab.research.google.com/assets/colab-badge.svg\" alt=\"Open In Colab\"/></a>"
      ]
    },
    {
      "cell_type": "code",
      "execution_count": null,
      "metadata": {
        "id": "FoBApu6qjVGX"
      },
      "outputs": [],
      "source": [
        "# importing required libralies\n",
        "import requests\n",
        "from bs4 import BeautifulSoup as bs\n",
        "import re \n",
        "import pandas as pd\n",
        "import os"
      ]
    },
    {
      "cell_type": "code",
      "source": [
        "# Mounting my google drive to google colab\n",
        "from google.colab import drive\n",
        "drive.mount('/content/gdrive')\n",
        "base_path = \"/content/gdrive/MyDrive/NLP-FELLOWSHIP/Week1/Data_Files\"\n",
        "os.chdir(base_path)"
      ],
      "metadata": {
        "id": "W3gs0u8MnM2O"
      },
      "execution_count": null,
      "outputs": []
    },
    {
      "cell_type": "code",
      "source": [
        "# scrapping all snapshot links of igihe.com from wayback machine using API of wayback machine\n",
        "snap_links = []\n",
        "for month in range(10):\n",
        "    for day in range(31):\n",
        "        link = requests.get('http://archive.org/wayback/available?url=igihe.com&timestamp=2022{:02d}{:02d}'.format(month, day))\n",
        "        try:\n",
        "            if link.json()['archived_snapshots']['closest']['available']:\n",
        "                snap_links.append(link.json()['archived_snapshots']['closest']['url'])\n",
        "        except KeyError:\n",
        "            pass"
      ],
      "metadata": {
        "id": "CVVX3woQnZZE"
      },
      "execution_count": null,
      "outputs": []
    },
    {
      "cell_type": "code",
      "source": [
        "# Removing all Duplicates in snaps_links without losing index position \n",
        "no_dupsLinks = []\n",
        "ischecked = set()\n",
        "for link in snap_links:\n",
        "  if link not in ischecked:\n",
        "    no_dupsLinks.append(link)\n",
        "    ischecked.add(link)"
      ],
      "metadata": {
        "id": "XzXImG5Fnnkl"
      },
      "execution_count": null,
      "outputs": []
    },
    {
      "cell_type": "code",
      "source": [
        "# Getting all article links and article headings from each snapshots\n",
        "art_links = []\n",
        "art_headings = []\n",
        "\n",
        "for link in no_dupsLinks:\n",
        "  Page_content = requests.get(link).text\n",
        "  soup = bs(Page_content,'html.parser')\n",
        "  articles = soup.find_all('span', class_='homenews-title')\n",
        "  for item in articles:\n",
        "    art_links.append(link+item.find('a')['href'])\n",
        "    art_headings.append(item.find('a').text)\n",
        "\n",
        "# Saving all links and Headings to CSV file\n",
        "\n",
        "art = pd.DataFrame(list(zip(art_links,art_headings)),columns=['Article_Links','Article_Headings'])\n",
        "art.to_csv('Igihe_ArticleLinks.csv')"
      ],
      "metadata": {
        "id": "lYc8awgYnrH7"
      },
      "execution_count": null,
      "outputs": []
    },
    {
      "cell_type": "code",
      "source": [
        "# scrapping all Articles from Jan to Oct and save each article to txt file\n",
        "for i in range(len(art['Article_Links'])):\n",
        "  Page_art = requests.get(art['Article_Links'][i]).content\n",
        "  Page_soup = bs(Page_art)\n",
        "  # creating Key name of each article according to dates puplished\n",
        "  pattern = r'\\d{8}'\n",
        "  time = re.findall(pattern,art['Article_Links'][i])\n",
        "  Key_name = time[0]\n",
        "  wrap_artPage = Page_soup.find_all('div', class_='fulltext')\n",
        "  article_content = ''\n",
        "  for page in wrap_artPage:\n",
        "    pageBody = page.find_all('p')\n",
        "    for sent in pageBody:\n",
        "      if sent.text:\n",
        "        article_content += '\\n'+ sent.text\n",
        "    with open('./Igihe_articles/article_'+Key_name+f'-({i}).txt','w') as igihe:\n",
        "      igihe.write(article_content)"
      ],
      "metadata": {
        "id": "QJ77JVg4oT6Q"
      },
      "execution_count": null,
      "outputs": []
    }
  ]
}